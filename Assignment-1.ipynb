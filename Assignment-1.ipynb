{
 "cells": [
  {
   "cell_type": "code",
   "execution_count": 2,
   "id": "0d388369",
   "metadata": {},
   "outputs": [],
   "source": [
    "import numpy as np"
   ]
  },
  {
   "cell_type": "code",
   "execution_count": 3,
   "id": "8dec20c4",
   "metadata": {},
   "outputs": [],
   "source": [
    "import pandas as pd\n"
   ]
  },
  {
   "cell_type": "code",
   "execution_count": 8,
   "id": "d161ece2",
   "metadata": {},
   "outputs": [
    {
     "name": "stdout",
     "output_type": "stream",
     "text": [
      "              Name                                         Superpower  Gender  \\\n",
      "0         Superman                Super strength, flight, heat vision    Male   \n",
      "1           Batman            Genius intellect, martial arts, gadgets    Male   \n",
      "2     Wonder Woman              Super strength, flight, combat skills  Female   \n",
      "3       Spider-Man         Super strength, web-slinging, spider-sense    Male   \n",
      "4         Iron Man               Genius intellect, powered armor suit    Male   \n",
      "5  Captain America             Super strength, agility, combat skills    Male   \n",
      "6        The Flash  Super speed, time travel, phasing through objects    Male   \n",
      "7    Green Lantern              Power ring, flight, energy constructs    Male   \n",
      "8             Thor       Super strength, flight, weather manipulation    Male   \n",
      "9             Hulk           Super strength, regeneration, durability    Male   \n",
      "\n",
      "          Origin                      Weakness   Age  \n",
      "0        Krypton                    Kryptonite    35  \n",
      "1    Gotham City                No superpowers    32  \n",
      "2     Themyscira                 Ares' Godwave  5000  \n",
      "3  New York City      Ethyl chloride pesticide    21  \n",
      "4  New York City                    Alcoholism    48  \n",
      "5  New York City  No superpowers without serum   101  \n",
      "6   Central City             Cold temperatures    25  \n",
      "7     Coast City                  Yellow color    30  \n",
      "8         Asgard       Separation from Mjolnir  1000  \n",
      "9  New York City            Calming techniques    40  \n"
     ]
    }
   ],
   "source": [
    "import pandas as pd\n",
    "\n",
    "data = {'Name': ['Superman', 'Batman', 'Wonder Woman', 'Spider-Man', 'Iron Man', 'Captain America', 'The Flash', 'Green Lantern', 'Thor', 'Hulk'],\n",
    "        'Superpower': ['Super strength, flight, heat vision', 'Genius intellect, martial arts, gadgets', 'Super strength, flight, combat skills', 'Super strength, web-slinging, spider-sense', 'Genius intellect, powered armor suit', 'Super strength, agility, combat skills', 'Super speed, time travel, phasing through objects', 'Power ring, flight, energy constructs', 'Super strength, flight, weather manipulation', 'Super strength, regeneration, durability'],\n",
    "        'Gender': ['Male', 'Male', 'Female', 'Male', 'Male', 'Male', 'Male', 'Male', 'Male', 'Male'],\n",
    "        'Origin': ['Krypton', 'Gotham City', 'Themyscira', 'New York City', 'New York City', 'New York City', 'Central City', 'Coast City','Asgard','New York City'],\n",
    "        'Weakness': ['Kryptonite','No superpowers','Ares\\' Godwave','Ethyl chloride pesticide','Alcoholism','No superpowers without serum','Cold temperatures','Yellow color','Separation from Mjolnir','Calming techniques'],\n",
    "        \"Age\": [35, 32, 5000, 21, 48, 101, 25, 30, 1000, 40]}\n",
    "\n",
    "df = pd.DataFrame(data)\n",
    "\n",
    "print(df)\n",
    "\n",
    "\n"
   ]
  },
  {
   "cell_type": "code",
   "execution_count": 9,
   "id": "d872a6c1",
   "metadata": {},
   "outputs": [
    {
     "name": "stdout",
     "output_type": "stream",
     "text": [
      "<class 'pandas.core.frame.DataFrame'>\n",
      "RangeIndex: 10 entries, 0 to 9\n",
      "Data columns (total 6 columns):\n",
      " #   Column      Non-Null Count  Dtype \n",
      "---  ------      --------------  ----- \n",
      " 0   Name        10 non-null     object\n",
      " 1   Superpower  10 non-null     object\n",
      " 2   Gender      10 non-null     object\n",
      " 3   Origin      10 non-null     object\n",
      " 4   Weakness    10 non-null     object\n",
      " 5   Age         10 non-null     int64 \n",
      "dtypes: int64(1), object(5)\n",
      "memory usage: 608.0+ bytes\n"
     ]
    }
   ],
   "source": [
    "df.info()"
   ]
  },
  {
   "cell_type": "code",
   "execution_count": 11,
   "id": "6cee2d56",
   "metadata": {},
   "outputs": [
    {
     "data": {
      "text/html": [
       "<div>\n",
       "<style scoped>\n",
       "    .dataframe tbody tr th:only-of-type {\n",
       "        vertical-align: middle;\n",
       "    }\n",
       "\n",
       "    .dataframe tbody tr th {\n",
       "        vertical-align: top;\n",
       "    }\n",
       "\n",
       "    .dataframe thead th {\n",
       "        text-align: right;\n",
       "    }\n",
       "</style>\n",
       "<table border=\"1\" class=\"dataframe\">\n",
       "  <thead>\n",
       "    <tr style=\"text-align: right;\">\n",
       "      <th></th>\n",
       "      <th>Age</th>\n",
       "    </tr>\n",
       "  </thead>\n",
       "  <tbody>\n",
       "    <tr>\n",
       "      <th>count</th>\n",
       "      <td>10.00000</td>\n",
       "    </tr>\n",
       "    <tr>\n",
       "      <th>mean</th>\n",
       "      <td>633.20000</td>\n",
       "    </tr>\n",
       "    <tr>\n",
       "      <th>std</th>\n",
       "      <td>1563.78805</td>\n",
       "    </tr>\n",
       "    <tr>\n",
       "      <th>min</th>\n",
       "      <td>21.00000</td>\n",
       "    </tr>\n",
       "    <tr>\n",
       "      <th>25%</th>\n",
       "      <td>30.50000</td>\n",
       "    </tr>\n",
       "    <tr>\n",
       "      <th>50%</th>\n",
       "      <td>37.50000</td>\n",
       "    </tr>\n",
       "    <tr>\n",
       "      <th>75%</th>\n",
       "      <td>87.75000</td>\n",
       "    </tr>\n",
       "    <tr>\n",
       "      <th>max</th>\n",
       "      <td>5000.00000</td>\n",
       "    </tr>\n",
       "  </tbody>\n",
       "</table>\n",
       "</div>"
      ],
      "text/plain": [
       "              Age\n",
       "count    10.00000\n",
       "mean    633.20000\n",
       "std    1563.78805\n",
       "min      21.00000\n",
       "25%      30.50000\n",
       "50%      37.50000\n",
       "75%      87.75000\n",
       "max    5000.00000"
      ]
     },
     "execution_count": 11,
     "metadata": {},
     "output_type": "execute_result"
    }
   ],
   "source": [
    "df.describe()"
   ]
  },
  {
   "cell_type": "code",
   "execution_count": 13,
   "id": "1df9402f",
   "metadata": {},
   "outputs": [
    {
     "data": {
      "text/plain": [
       "Name                                      Iron Man\n",
       "Superpower    Genius intellect, powered armor suit\n",
       "Gender                                        Male\n",
       "Origin                               New York City\n",
       "Weakness                                Alcoholism\n",
       "Age                                             48\n",
       "Name: 4, dtype: object"
      ]
     },
     "execution_count": 13,
     "metadata": {},
     "output_type": "execute_result"
    }
   ],
   "source": [
    "df.loc[4]"
   ]
  },
  {
   "cell_type": "code",
   "execution_count": 15,
   "id": "6d33841a",
   "metadata": {},
   "outputs": [
    {
     "data": {
      "text/html": [
       "<div>\n",
       "<style scoped>\n",
       "    .dataframe tbody tr th:only-of-type {\n",
       "        vertical-align: middle;\n",
       "    }\n",
       "\n",
       "    .dataframe tbody tr th {\n",
       "        vertical-align: top;\n",
       "    }\n",
       "\n",
       "    .dataframe thead th {\n",
       "        text-align: right;\n",
       "    }\n",
       "</style>\n",
       "<table border=\"1\" class=\"dataframe\">\n",
       "  <thead>\n",
       "    <tr style=\"text-align: right;\">\n",
       "      <th></th>\n",
       "      <th>Name</th>\n",
       "      <th>Superpower</th>\n",
       "      <th>Gender</th>\n",
       "      <th>Origin</th>\n",
       "      <th>Weakness</th>\n",
       "      <th>Age</th>\n",
       "    </tr>\n",
       "  </thead>\n",
       "  <tbody>\n",
       "    <tr>\n",
       "      <th>0</th>\n",
       "      <td>False</td>\n",
       "      <td>False</td>\n",
       "      <td>False</td>\n",
       "      <td>False</td>\n",
       "      <td>False</td>\n",
       "      <td>False</td>\n",
       "    </tr>\n",
       "    <tr>\n",
       "      <th>1</th>\n",
       "      <td>False</td>\n",
       "      <td>False</td>\n",
       "      <td>False</td>\n",
       "      <td>False</td>\n",
       "      <td>False</td>\n",
       "      <td>False</td>\n",
       "    </tr>\n",
       "    <tr>\n",
       "      <th>2</th>\n",
       "      <td>False</td>\n",
       "      <td>False</td>\n",
       "      <td>False</td>\n",
       "      <td>False</td>\n",
       "      <td>False</td>\n",
       "      <td>False</td>\n",
       "    </tr>\n",
       "    <tr>\n",
       "      <th>3</th>\n",
       "      <td>False</td>\n",
       "      <td>False</td>\n",
       "      <td>False</td>\n",
       "      <td>False</td>\n",
       "      <td>False</td>\n",
       "      <td>False</td>\n",
       "    </tr>\n",
       "    <tr>\n",
       "      <th>4</th>\n",
       "      <td>False</td>\n",
       "      <td>False</td>\n",
       "      <td>False</td>\n",
       "      <td>False</td>\n",
       "      <td>False</td>\n",
       "      <td>False</td>\n",
       "    </tr>\n",
       "    <tr>\n",
       "      <th>5</th>\n",
       "      <td>False</td>\n",
       "      <td>False</td>\n",
       "      <td>False</td>\n",
       "      <td>False</td>\n",
       "      <td>False</td>\n",
       "      <td>False</td>\n",
       "    </tr>\n",
       "    <tr>\n",
       "      <th>6</th>\n",
       "      <td>False</td>\n",
       "      <td>False</td>\n",
       "      <td>False</td>\n",
       "      <td>False</td>\n",
       "      <td>False</td>\n",
       "      <td>False</td>\n",
       "    </tr>\n",
       "    <tr>\n",
       "      <th>7</th>\n",
       "      <td>False</td>\n",
       "      <td>False</td>\n",
       "      <td>False</td>\n",
       "      <td>False</td>\n",
       "      <td>False</td>\n",
       "      <td>False</td>\n",
       "    </tr>\n",
       "    <tr>\n",
       "      <th>8</th>\n",
       "      <td>False</td>\n",
       "      <td>False</td>\n",
       "      <td>False</td>\n",
       "      <td>False</td>\n",
       "      <td>False</td>\n",
       "      <td>False</td>\n",
       "    </tr>\n",
       "    <tr>\n",
       "      <th>9</th>\n",
       "      <td>False</td>\n",
       "      <td>False</td>\n",
       "      <td>False</td>\n",
       "      <td>False</td>\n",
       "      <td>False</td>\n",
       "      <td>False</td>\n",
       "    </tr>\n",
       "  </tbody>\n",
       "</table>\n",
       "</div>"
      ],
      "text/plain": [
       "    Name  Superpower  Gender  Origin  Weakness    Age\n",
       "0  False       False   False   False     False  False\n",
       "1  False       False   False   False     False  False\n",
       "2  False       False   False   False     False  False\n",
       "3  False       False   False   False     False  False\n",
       "4  False       False   False   False     False  False\n",
       "5  False       False   False   False     False  False\n",
       "6  False       False   False   False     False  False\n",
       "7  False       False   False   False     False  False\n",
       "8  False       False   False   False     False  False\n",
       "9  False       False   False   False     False  False"
      ]
     },
     "execution_count": 15,
     "metadata": {},
     "output_type": "execute_result"
    }
   ],
   "source": [
    "df.isnull()"
   ]
  },
  {
   "cell_type": "code",
   "execution_count": 16,
   "id": "cecb8fb2",
   "metadata": {},
   "outputs": [
    {
     "data": {
      "text/plain": [
       "Name          0\n",
       "Superpower    0\n",
       "Gender        0\n",
       "Origin        0\n",
       "Weakness      0\n",
       "Age           0\n",
       "dtype: int64"
      ]
     },
     "execution_count": 16,
     "metadata": {},
     "output_type": "execute_result"
    }
   ],
   "source": [
    "df.isnull().sum()"
   ]
  },
  {
   "cell_type": "code",
   "execution_count": null,
   "id": "4aec5f83",
   "metadata": {},
   "outputs": [],
   "source": []
  }
 ],
 "metadata": {
  "kernelspec": {
   "display_name": "Python 3 (ipykernel)",
   "language": "python",
   "name": "python3"
  },
  "language_info": {
   "codemirror_mode": {
    "name": "ipython",
    "version": 3
   },
   "file_extension": ".py",
   "mimetype": "text/x-python",
   "name": "python",
   "nbconvert_exporter": "python",
   "pygments_lexer": "ipython3",
   "version": "3.10.9"
  }
 },
 "nbformat": 4,
 "nbformat_minor": 5
}
